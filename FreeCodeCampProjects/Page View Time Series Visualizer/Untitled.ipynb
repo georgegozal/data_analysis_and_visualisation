{
 "cells": [
  {
   "cell_type": "code",
   "execution_count": 1,
   "id": "measured-prophet",
   "metadata": {},
   "outputs": [],
   "source": [
    "import matplotlib.pyplot as plt\n",
    "import pandas as pd\n",
    "import seaborn as sns\n",
    "from pandas.plotting import register_matplotlib_converters\n",
    "register_matplotlib_converters()"
   ]
  },
  {
   "cell_type": "code",
   "execution_count": 5,
   "id": "artificial-auction",
   "metadata": {},
   "outputs": [],
   "source": [
    "# Import data (Make sure to parse dates. Consider setting index column to 'date'.)\n",
    "df = None\n",
    "\n",
    "# Clean data\n",
    "df = None"
   ]
  },
  {
   "cell_type": "code",
   "execution_count": null,
   "id": "regulated-coach",
   "metadata": {},
   "outputs": [],
   "source": [
    "def draw_line_plot():\n",
    "    # Draw line plot\n",
    "\n",
    "\n",
    "\n",
    "\n",
    "\n",
    "    # Save image and return fig (don't change this part)\n",
    "    fig.savefig('line_plot.png')\n",
    "    return fig\n",
    "\n",
    "\n",
    "\n",
    "\n"
   ]
  },
  {
   "cell_type": "code",
   "execution_count": null,
   "id": "broad-spice",
   "metadata": {},
   "outputs": [],
   "source": [
    "def draw_bar_plot():\n",
    "    # Copy and modify data for monthly bar plot\n",
    "    df_bar = None\n",
    "\n",
    "    # Draw bar plot\n",
    "\n",
    "\n",
    "\n",
    "\n",
    "\n",
    "    # Save image and return fig (don't change this part)\n",
    "    fig.savefig('bar_plot.png')\n",
    "    return fig"
   ]
  },
  {
   "cell_type": "code",
   "execution_count": null,
   "id": "brief-characterization",
   "metadata": {},
   "outputs": [],
   "source": [
    "def draw_box_plot():\n",
    "    # Prepare data for box plots (this part is done!)\n",
    "    df_box = df.copy()\n",
    "    df_box.reset_index(inplace=True)\n",
    "    df_box['year'] = [d.year for d in df_box.date]\n",
    "    df_box['month'] = [d.strftime('%b') for d in df_box.date]\n",
    "\n",
    "    # Draw box plots (using Seaborn)\n",
    "\n",
    "\n",
    "\n",
    "\n",
    "\n",
    "    # Save image and return fig (don't change this part)\n",
    "    fig.savefig('box_plot.png')\n",
    "    return fig"
   ]
  }
 ],
 "metadata": {
  "kernelspec": {
   "display_name": "Python 3.8.5 64-bit",
   "language": "python",
   "name": "python38564bitac6946f58a19450d8fa96518e67fb82b"
  },
  "language_info": {
   "codemirror_mode": {
    "name": "ipython",
    "version": 3
   },
   "file_extension": ".py",
   "mimetype": "text/x-python",
   "name": "python",
   "nbconvert_exporter": "python",
   "pygments_lexer": "ipython3",
   "version": "3.8.5"
  }
 },
 "nbformat": 4,
 "nbformat_minor": 5
}
