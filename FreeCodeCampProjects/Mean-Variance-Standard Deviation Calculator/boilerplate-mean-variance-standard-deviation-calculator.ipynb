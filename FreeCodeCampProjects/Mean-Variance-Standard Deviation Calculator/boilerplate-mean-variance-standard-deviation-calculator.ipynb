{
 "cells": [
  {
   "cell_type": "code",
   "execution_count": 2,
   "id": "divine-leonard",
   "metadata": {},
   "outputs": [
    {
     "name": "stdout",
     "output_type": "stream",
     "text": [
      "{'mean': [[3.0, 4.0, 5.0], [1.0, 4.0, 7.0], 4.0], 'variance': [[6.0, 6.0, 6.0], [0.6666666666666666, 0.6666666666666666, 0.6666666666666666], 6.666666666666667], 'standard deviation': [[2.449489742783178, 2.449489742783178, 2.449489742783178], [0.816496580927726, 0.816496580927726, 0.816496580927726], 2.581988897471611], 'max': [[6, 7, 8], [2, 5, 8], 8], 'min': [[0, 1, 2], [0, 3, 6], 0], 'sum': [[9, 12, 15], [3, 12, 21], 36]}\n"
     ]
    }
   ],
   "source": [
    "import numpy as np\n",
    "\n",
    "def calculate(list):\n",
    "    \n",
    "    if len(list) != 9:\n",
    "        raise ValueError(\"List must contain nine numbers.\" )\n",
    "            \n",
    "\n",
    "    my_array = np.array([list]).reshape((3,3))\n",
    "    \n",
    "    calculations = {  \n",
    "          'mean': [my_array.mean(axis=0).tolist(), my_array.mean(axis=1).tolist(), np.mean(my_array)],\n",
    "          'variance': [my_array.var(axis=0).tolist(), my_array.var(axis=1).tolist(), np.var(my_array)],\n",
    "          'standard deviation': [my_array.std(axis=0).tolist(), my_array.std(axis=1).tolist(), np.std(my_array)],\n",
    "          'max': [my_array.max(axis=0).tolist(), my_array.max(axis=1).tolist(), np.max(my_array)],\n",
    "          'min': [my_array.min(axis=0).tolist(), my_array.min(axis=1).tolist(), np.min(my_array)],\n",
    "          'sum': [my_array.sum(axis=0).tolist(), my_array.sum(axis=1).tolist(), np.sum(my_array)]\n",
    "    }\n",
    "    return calculations\n",
    "print(calculate([0,1,2,3,4,5,6,7,8]))"
   ]
  },
  {
   "cell_type": "code",
   "execution_count": null,
   "id": "guided-gambling",
   "metadata": {},
   "outputs": [],
   "source": []
  }
 ],
 "metadata": {
  "kernelspec": {
   "display_name": "Python 3.8.5 64-bit",
   "language": "python",
   "name": "python38564bitac6946f58a19450d8fa96518e67fb82b"
  },
  "language_info": {
   "codemirror_mode": {
    "name": "ipython",
    "version": 3
   },
   "file_extension": ".py",
   "mimetype": "text/x-python",
   "name": "python",
   "nbconvert_exporter": "python",
   "pygments_lexer": "ipython3",
   "version": "3.8.5"
  }
 },
 "nbformat": 4,
 "nbformat_minor": 5
}
